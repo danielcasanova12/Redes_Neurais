{
 "cells": [
  {
   "cell_type": "code",
   "execution_count": null,
   "metadata": {},
   "outputs": [],
   "source": [
    "import pandas as pd\n",
    "from keras.layers import Dense, Dropout, Activation, Input\n",
    "from keras.models import Model\n",
    "\n",
    "base = pd.read_csv('games.csv')\n",
    "base = base.drop('Other_Sales', axis = 1)\n",
    "base = base.drop('Global_Sales', axis = 1)\n",
    "base = base.drop('Developer', axis = 1)\n"
   ]
  },
  {
   "cell_type": "code",
   "execution_count": null,
   "metadata": {},
   "outputs": [],
   "source": [
    "\n",
    "base = base.dropna(axis = 0)\n",
    "base = base.loc[base['NA_Sales'] > 1]\n",
    "base = base.loc[base['EU_Sales'] > 1]\n",
    "\n",
    "base['Name'].value_counts()\n",
    "nome_jogos = base.Name\n",
    "base = base.drop('Name', axis = 1)\n"
   ]
  },
  {
   "cell_type": "code",
   "execution_count": null,
   "metadata": {},
   "outputs": [],
   "source": [
    "\n",
    "previsores = base.iloc[:, [0,1,2,3,7,8,9,10,11]].values\n",
    "venda_na = base.iloc[:, 4].values\n",
    "venda_eu = base.iloc[:, 5].values\n",
    "venda_jp = base.iloc[:, 6].values\n"
   ]
  },
  {
   "cell_type": "code",
   "execution_count": null,
   "metadata": {},
   "outputs": [],
   "source": [
    "\n",
    "from sklearn.preprocessing import LabelEncoder, OneHotEncoder\n",
    "labelencoder = LabelEncoder()\n",
    "previsores[:, 0] = labelencoder.fit_transform(previsores[:, 0])\n",
    "previsores[:, 2] = labelencoder.fit_transform(previsores[:, 2])\n",
    "previsores[:, 3] = labelencoder.fit_transform(previsores[:, 3])\n",
    "previsores[:, 8] = labelencoder.fit_transform(previsores[:, 8])\n",
    "\n"
   ]
  },
  {
   "cell_type": "code",
   "execution_count": null,
   "metadata": {},
   "outputs": [],
   "source": [
    "# s 1 0\n",
    "# r 0 1\n",
    "onehotencoder = OneHotEncoder(categorical_features = [0,2,3,8])\n",
    "previsores = onehotencoder.fit_transform(previsores).toarray()\n",
    "\n"
   ]
  },
  {
   "cell_type": "code",
   "execution_count": null,
   "metadata": {},
   "outputs": [],
   "source": [
    "camada_entrada = Input(shape=(61,))\n",
    "camada_oculta1 = Dense(units = 32, activation = 'sigmoid')(camada_entrada)\n",
    "camada_oculta2 = Dense(units = 32, activation = 'sigmoid')(camada_oculta1)\n",
    "camada_saida1 = Dense(units = 1, activation = 'linear')(camada_oculta2)\n",
    "camada_saida2 = Dense(units = 1, activation = 'linear')(camada_oculta2)\n",
    "camada_saida3 = Dense(units = 1, activation = 'linear')(camada_oculta2)\n"
   ]
  },
  {
   "cell_type": "code",
   "execution_count": null,
   "metadata": {},
   "outputs": [],
   "source": [
    "\n",
    "regressor = Model(inputs = camada_entrada,\n",
    "                  outputs = [camada_saida1, camada_saida2, camada_saida3])\n",
    "regressor.compile(optimizer = 'adam',\n",
    "                  loss = 'mse')\n",
    "regressor.fit(previsores, [venda_na, venda_eu, venda_jp],\n",
    "              epochs = 5000, batch_size = 100)\n",
    "previsao_na, previsao_eu, previsao_jp = regressor.predict(previsores)"
   ]
  },
  {
   "cell_type": "code",
   "execution_count": null,
   "metadata": {},
   "outputs": [],
   "source": []
  }
 ],
 "metadata": {
  "kernelspec": {
   "display_name": "Python 3",
   "language": "python",
   "name": "python3"
  },
  "language_info": {
   "codemirror_mode": {
    "name": "ipython",
    "version": 3
   },
   "file_extension": ".py",
   "mimetype": "text/x-python",
   "name": "python",
   "nbconvert_exporter": "python",
   "pygments_lexer": "ipython3",
   "version": "3.11.8"
  }
 },
 "nbformat": 4,
 "nbformat_minor": 2
}
