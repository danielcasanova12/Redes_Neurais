{
 "cells": [
  {
   "cell_type": "code",
   "execution_count": null,
   "metadata": {},
   "outputs": [],
   "source": [
    "import pandas as pd\n",
    "from keras.layers import Dense, Dropout, Activation, Input\n",
    "from keras.models import Model\n",
    "\n",
    "base = pd.read_csv('games.csv')\n",
    "base = base.drop('Other_Sales', axis = 1)\n",
    "base = base.drop('Global_Sales', axis = 1)\n",
    "base = base.drop('Developer', axis = 1)\n"
   ]
  },
  {
   "cell_type": "code",
   "execution_count": null,
   "metadata": {},
   "outputs": [],
   "source": [
    "\n",
    "base = base.dropna(axis = 0)\n",
    "base = base.loc[base['NA_Sales'] > 1]\n",
    "base = base.loc[base['EU_Sales'] > 1]\n",
    "\n",
    "base['Name'].value_counts()\n",
    "nome_jogos = base.Name\n",
    "base = base.drop('Name', axis = 1)\n"
   ]
  },
  {
   "cell_type": "code",
   "execution_count": null,
   "metadata": {},
   "outputs": [],
   "source": [
    "\n",
    "previsores = base.iloc[:, [0,1,2,3,7,8,9,10,11]].values\n",
    "venda_na = base.iloc[:, 4].values\n",
    "venda_eu = base.iloc[:, 5].values\n",
    "venda_jp = base.iloc[:, 6].values\n"
   ]
  },
  {
   "cell_type": "code",
   "execution_count": 1,
   "metadata": {},
   "outputs": [
    {
     "ename": "NameError",
     "evalue": "name 'previsores' is not defined",
     "output_type": "error",
     "traceback": [
      "\u001b[1;31m---------------------------------------------------------------------------\u001b[0m",
      "\u001b[1;31mNameError\u001b[0m                                 Traceback (most recent call last)",
      "Cell \u001b[1;32mIn[1], line 3\u001b[0m\n\u001b[0;32m      1\u001b[0m \u001b[38;5;28;01mfrom\u001b[39;00m \u001b[38;5;21;01msklearn\u001b[39;00m\u001b[38;5;21;01m.\u001b[39;00m\u001b[38;5;21;01mpreprocessing\u001b[39;00m \u001b[38;5;28;01mimport\u001b[39;00m LabelEncoder, OneHotEncoder\n\u001b[0;32m      2\u001b[0m labelencoder \u001b[38;5;241m=\u001b[39m LabelEncoder()\n\u001b[1;32m----> 3\u001b[0m previsores[:, \u001b[38;5;241m0\u001b[39m] \u001b[38;5;241m=\u001b[39m labelencoder\u001b[38;5;241m.\u001b[39mfit_transform(\u001b[43mprevisores\u001b[49m[:, \u001b[38;5;241m0\u001b[39m])\n\u001b[0;32m      4\u001b[0m previsores[:, \u001b[38;5;241m2\u001b[39m] \u001b[38;5;241m=\u001b[39m labelencoder\u001b[38;5;241m.\u001b[39mfit_transform(previsores[:, \u001b[38;5;241m2\u001b[39m])\n\u001b[0;32m      5\u001b[0m previsores[:, \u001b[38;5;241m3\u001b[39m] \u001b[38;5;241m=\u001b[39m labelencoder\u001b[38;5;241m.\u001b[39mfit_transform(previsores[:, \u001b[38;5;241m3\u001b[39m])\n",
      "\u001b[1;31mNameError\u001b[0m: name 'previsores' is not defined"
     ]
    }
   ],
   "source": [
    "\n",
    "from sklearn.preprocessing import LabelEncoder, OneHotEncoder\n",
    "labelencoder = LabelEncoder()\n",
    "previsores[:, 0] = labelencoder.fit_transform(previsores[:, 0])\n",
    "previsores[:, 2] = labelencoder.fit_transform(previsores[:, 2])\n",
    "previsores[:, 3] = labelencoder.fit_transform(previsores[:, 3])\n",
    "previsores[:, 8] = labelencoder.fit_transform(previsores[:, 8])\n",
    "\n"
   ]
  },
  {
   "cell_type": "code",
   "execution_count": null,
   "metadata": {},
   "outputs": [],
   "source": [
    "# s 1 0\n",
    "# r 0 1\n",
    "onehotencoder = OneHotEncoder(categorical_features = [0,2,3,8])\n",
    "previsores = onehotencoder.fit_transform(previsores).toarray()\n",
    "\n"
   ]
  },
  {
   "cell_type": "code",
   "execution_count": null,
   "metadata": {},
   "outputs": [],
   "source": [
    "camada_entrada = Input(shape=(61,))\n",
    "camada_oculta1 = Dense(units = 32, activation = 'sigmoid')(camada_entrada)\n",
    "camada_oculta2 = Dense(units = 32, activation = 'sigmoid')(camada_oculta1)\n",
    "camada_saida1 = Dense(units = 1, activation = 'linear')(camada_oculta2)\n",
    "camada_saida2 = Dense(units = 1, activation = 'linear')(camada_oculta2)\n",
    "camada_saida3 = Dense(units = 1, activation = 'linear')(camada_oculta2)\n"
   ]
  },
  {
   "cell_type": "code",
   "execution_count": null,
   "metadata": {},
   "outputs": [],
   "source": [
    "\n",
    "regressor = Model(inputs = camada_entrada,\n",
    "                  outputs = [camada_saida1, camada_saida2, camada_saida3])\n",
    "regressor.compile(optimizer = 'adam',\n",
    "                  loss = 'mse')\n",
    "regressor.fit(previsores, [venda_na, venda_eu, venda_jp],\n",
    "              epochs = 5000, batch_size = 100)\n",
    "previsao_na, previsao_eu, previsao_jp = regressor.predict(previsores)"
   ]
  },
  {
   "cell_type": "markdown",
   "metadata": {},
   "source": [
    "## trabalho finalizado."
   ]
  },
  {
   "cell_type": "code",
   "execution_count": null,
   "metadata": {},
   "outputs": [],
   "source": []
  }
 ],
 "metadata": {
  "kernelspec": {
   "display_name": "Python 3",
   "language": "python",
   "name": "python3"
  },
  "language_info": {
   "codemirror_mode": {
    "name": "ipython",
    "version": 3
   },
   "file_extension": ".py",
   "mimetype": "text/x-python",
   "name": "python",
   "nbconvert_exporter": "python",
   "pygments_lexer": "ipython3",
   "version": "3.11.8"
  }
 },
 "nbformat": 4,
 "nbformat_minor": 2
}
