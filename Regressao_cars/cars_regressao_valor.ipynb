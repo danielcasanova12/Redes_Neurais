{
 "cells": [
  {
   "cell_type": "code",
   "execution_count": 20,
   "metadata": {},
   "outputs": [],
   "source": [
    "import pandas as pd\n",
    "\n",
    "\n",
    "base = pd.read_csv('../DataBase/autos.csv' , encoding = 'ISO-8859-1')\n",
    "previsores = base.iloc[:, 1:13].values\n",
    "preco_base = base.iloc[:, 0].values\n"
   ]
  },
  {
   "cell_type": "markdown",
   "metadata": {},
   "source": [
    "## Pré-processando os dados"
   ]
  },
  {
   "cell_type": "code",
   "execution_count": 21,
   "metadata": {},
   "outputs": [],
   "source": [
    "base = base.drop('dateCrawled', axis = 1)\n",
    "base = base.drop('dateCreated', axis = 1)\n",
    "base = base.drop('nrOfPictures', axis = 1)\n",
    "base = base.drop('postalCode', axis = 1)\n",
    "base = base.drop('lastSeen', axis = 1)\n",
    "base = base.drop('name', axis = 1)\n",
    "base = base.drop('seller', axis = 1)\n",
    "base = base.drop('offerType', axis = 1)"
   ]
  },
  {
   "cell_type": "markdown",
   "metadata": {},
   "source": [
    "## Excluindo carros que tem o valor menor que 10 e maior que 350.000 "
   ]
  },
  {
   "cell_type": "code",
   "execution_count": 22,
   "metadata": {},
   "outputs": [],
   "source": [
    "i1 = base.loc[base.price <= 10]\n",
    "base = base[base.price > 10]\n",
    "base = base[base.price < 350000]"
   ]
  },
  {
   "cell_type": "code",
   "execution_count": 23,
   "metadata": {},
   "outputs": [],
   "source": [
    "base.loc[pd.isnull(base['vehicleType'])] # Não há dados nulos\n",
    "base.loc[pd.isnull(base['gearbox'])] \n",
    "base.loc[pd.isnull(base['model'])]\n",
    "base.loc[pd.isnull(base['fuelType'])]\n",
    "base.loc[pd.isnull(base['notRepairedDamage'])]\n",
    "\n",
    "valores = {'vehicleType': 'limousine', 'gearbox': 'manuell', 'model': 'golf', 'fuelType': 'benzin', 'notRepairedDamage': 'nein'}\n",
    "base = base.fillna(value = valores)\n",
    "\n",
    "previsores = base.iloc[:, 1:13].values\n",
    "classe = base.iloc[:, 0].values\n",
    "\n"
   ]
  },
  {
   "cell_type": "code",
   "execution_count": 24,
   "metadata": {},
   "outputs": [
    {
     "ename": "TypeError",
     "evalue": "OneHotEncoder.__init__() got an unexpected keyword argument 'categorical_features'",
     "output_type": "error",
     "traceback": [
      "\u001b[1;31m---------------------------------------------------------------------------\u001b[0m",
      "\u001b[1;31mTypeError\u001b[0m                                 Traceback (most recent call last)",
      "Cell \u001b[1;32mIn[24], line 13\u001b[0m\n\u001b[0;32m     10\u001b[0m previsores[:, \u001b[38;5;241m9\u001b[39m] \u001b[38;5;241m=\u001b[39m labelencoder_previsores\u001b[38;5;241m.\u001b[39mfit_transform(previsores[:, \u001b[38;5;241m9\u001b[39m])\n\u001b[0;32m     11\u001b[0m previsores[:, \u001b[38;5;241m10\u001b[39m] \u001b[38;5;241m=\u001b[39m labelencoder_previsores\u001b[38;5;241m.\u001b[39mfit_transform(previsores[:, \u001b[38;5;241m10\u001b[39m])\n\u001b[1;32m---> 13\u001b[0m onehotencoder \u001b[38;5;241m=\u001b[39m \u001b[43mOneHotEncoder\u001b[49m\u001b[43m(\u001b[49m\u001b[43mcategorical_features\u001b[49m\u001b[43m \u001b[49m\u001b[38;5;241;43m=\u001b[39;49m\u001b[43m \u001b[49m\u001b[43m[\u001b[49m\u001b[38;5;241;43m0\u001b[39;49m\u001b[43m,\u001b[49m\u001b[38;5;241;43m1\u001b[39;49m\u001b[43m,\u001b[49m\u001b[38;5;241;43m3\u001b[39;49m\u001b[43m,\u001b[49m\u001b[38;5;241;43m5\u001b[39;49m\u001b[43m,\u001b[49m\u001b[38;5;241;43m8\u001b[39;49m\u001b[43m,\u001b[49m\u001b[38;5;241;43m9\u001b[39;49m\u001b[43m,\u001b[49m\u001b[38;5;241;43m10\u001b[39;49m\u001b[43m]\u001b[49m\u001b[43m)\u001b[49m\n\u001b[0;32m     14\u001b[0m previsores \u001b[38;5;241m=\u001b[39m onehotencoder\u001b[38;5;241m.\u001b[39mfit_transform(previsores)\u001b[38;5;241m.\u001b[39mtoarray()\n",
      "\u001b[1;31mTypeError\u001b[0m: OneHotEncoder.__init__() got an unexpected keyword argument 'categorical_features'"
     ]
    }
   ],
   "source": [
    "from sklearn.preprocessing import LabelEncoder, OneHotEncoder\n",
    "\n",
    "\n",
    "labelencoder_previsores = LabelEncoder()\n",
    "previsores[:, 0] = labelencoder_previsores.fit_transform(previsores[:, 0])\n",
    "previsores[:, 1] = labelencoder_previsores.fit_transform(previsores[:, 1])\n",
    "previsores[:, 3] = labelencoder_previsores.fit_transform(previsores[:, 3])\n",
    "previsores[:, 5] = labelencoder_previsores.fit_transform(previsores[:, 5])\n",
    "previsores[:, 8] = labelencoder_previsores.fit_transform(previsores[:, 8])\n",
    "previsores[:, 9] = labelencoder_previsores.fit_transform(previsores[:, 9])\n",
    "previsores[:, 10] = labelencoder_previsores.fit_transform(previsores[:, 10])\n",
    "\n",
    "onehotencoder = OneHotEncoder(categorical_features = [0,1,3,5,8,9,10])\n",
    "previsores = onehotencoder.fit_transform(previsores).toarray()\n",
    "\n",
    "\n",
    "\n"
   ]
  },
  {
   "cell_type": "code",
   "execution_count": null,
   "metadata": {},
   "outputs": [],
   "source": [
    "# from sklearn.model_selection import train_test_split\n",
    "\n",
    "\n",
    "# previsores_treinamento, previsores_teste, classe_treinamento, classe_teste = train_test_split(previsores, classe, test_size = 0.15, random_state = 0)\n"
   ]
  },
  {
   "cell_type": "code",
   "execution_count": null,
   "metadata": {},
   "outputs": [
    {
     "ename": "NameError",
     "evalue": "name 'Sequential' is not defined",
     "output_type": "error",
     "traceback": [
      "\u001b[1;31m---------------------------------------------------------------------------\u001b[0m",
      "\u001b[1;31mNameError\u001b[0m                                 Traceback (most recent call last)",
      "Cell \u001b[1;32mIn[19], line 1\u001b[0m\n\u001b[1;32m----> 1\u001b[0m regressor \u001b[38;5;241m=\u001b[39m \u001b[43mSequential\u001b[49m()\n\u001b[0;32m      2\u001b[0m regressor\u001b[38;5;241m.\u001b[39madd(Dense(units \u001b[38;5;241m=\u001b[39m \u001b[38;5;241m158\u001b[39m, activation \u001b[38;5;241m=\u001b[39m \u001b[38;5;124m'\u001b[39m\u001b[38;5;124mrelu\u001b[39m\u001b[38;5;124m'\u001b[39m, input_dim \u001b[38;5;241m=\u001b[39m \u001b[38;5;241m316\u001b[39m))\n\u001b[0;32m      3\u001b[0m regressor\u001b[38;5;241m.\u001b[39madd(Dense(units \u001b[38;5;241m=\u001b[39m \u001b[38;5;241m158\u001b[39m, activation \u001b[38;5;241m=\u001b[39m \u001b[38;5;124m'\u001b[39m\u001b[38;5;124mrelu\u001b[39m\u001b[38;5;124m'\u001b[39m))\n",
      "\u001b[1;31mNameError\u001b[0m: name 'Sequential' is not defined"
     ]
    }
   ],
   "source": [
    "from keras.layers import Dense\n",
    "from keras.models import Sequential\n",
    "from sklearn.model_selection import cross_val_score\n",
    "from scikeras.wrapper import KerasRegressor\n",
    "\n",
    "def criar_rede():\n",
    "    regressor = Sequential()\n",
    "    regressor.add(Dense(units = 158, activation = 'relu', input_dim = 316))\n",
    "    regressor.add(Dense(units = 158, activation = 'relu'))\n",
    "    regressor.add(Dense(units = 1, activation = 'linear'))\n",
    "    regressor.compile(loss = 'mean_absolute_error', optimizer = 'adam', metrics = ['mean_absolute_error'])\n",
    "    return regressor\n",
    "\n",
    "\n",
    "regressor = KerasRegressor(build_fn = criar_rede, epochs = 100, batch_size = 300)\n",
    "resultados = cross_val_score(estimator = regressor, X = previsores, y = preco_base, cv = 10, scoring = 'neg_mean_absolute_error') \n",
    "media = resultados.mean()\n",
    "desvio = resultados.std()\n",
    "\n",
    "# regressor.fit(previsores, preco_base, epochs = 100, batch_size = 300)\n"
   ]
  },
  {
   "cell_type": "code",
   "execution_count": null,
   "metadata": {},
   "outputs": [],
   "source": []
  },
  {
   "cell_type": "code",
   "execution_count": null,
   "metadata": {},
   "outputs": [],
   "source": []
  }
 ],
 "metadata": {
  "kernelspec": {
   "display_name": "Python 3",
   "language": "python",
   "name": "python3"
  },
  "language_info": {
   "codemirror_mode": {
    "name": "ipython",
    "version": 3
   },
   "file_extension": ".py",
   "mimetype": "text/x-python",
   "name": "python",
   "nbconvert_exporter": "python",
   "pygments_lexer": "ipython3",
   "version": "3.11.8"
  }
 },
 "nbformat": 4,
 "nbformat_minor": 2
}
