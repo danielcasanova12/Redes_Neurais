{
 "cells": [
  {
   "cell_type": "code",
   "execution_count": null,
   "metadata": {},
   "outputs": [],
   "source": [
    "import pandas as pd\n",
    "from keras.models import Sequential\n",
    "from keras.layers import Dense, Dropout\n",
    "from scikeras.wrappers import KerasClassifier, KerasRegressor\n",
    "from sklearn.model_selection import cross_val_score\n",
    "from sklearn.preprocessing import LabelEncoder\n",
    "import keras as keras\n",
    "\n",
    "\n",
    "previsores = pd.read_csv('DataBase/entradas_breast.csv')\n",
    "classe = pd.read_csv('DataBase/saidas_breast.csv')\n"
   ]
  },
  {
   "cell_type": "code",
   "execution_count": null,
   "metadata": {},
   "outputs": [],
   "source": [
    "\n",
    "classificador = Sequential()\n",
    "    \n",
    "classificador.add(Dense(units=8,activation='relu',kernel_initializer='normal',input_dim=30))\n",
    "classificador.add(Dropout(0.2))\n",
    "classificador.add(Dense(units=8,activation='relu',kernel_initializer='normal'))\n",
    "classificador.add(Dropout(0.2))\n",
    "classificador.add(Dense(units=1,activation='sigmoid'))\n",
    "otimizador = keras.optimizers.Adam(learning_rate=0.0001,decay=0.0001,clipvalue=0.5)#classificador.compile(optimizer='adam', loss='binary_crossentropy', metrics=['binary_accuracy'])\n",
    "classificador.compile(optimizer='adam', loss='binary_crossentropy', metrics=['binary_accuracy'])\n",
    "\n",
    "\n",
    "\n",
    "classificador.fit(previsores,classe,batch_size=10,epochs=100)\n",
    "\n",
    "\n"
   ]
  },
  {
   "cell_type": "code",
   "execution_count": null,
   "metadata": {},
   "outputs": [],
   "source": [
    "import numpy as np\n",
    "\n",
    "\n",
    "novoRegistro = np.array([[15.70,8.34,118.6,784.7,0.0834,0.1141,0.9671,0.6087,0.1780,0.0565,0.2718,0.7926,1.0450,19.22,0.00718,0.02449,0.03988,0.01293,0.01435,0.003446,17.87,13.23,119.4,959.5,0.1640,0.6247,0.6922,0.1785,0.3585,0.1516]])]])"
   ]
  },
  {
   "cell_type": "code",
   "execution_count": null,
   "metadata": {},
   "outputs": [],
   "source": []
  }
 ],
 "metadata": {
  "language_info": {
   "name": "python"
  }
 },
 "nbformat": 4,
 "nbformat_minor": 2
}
